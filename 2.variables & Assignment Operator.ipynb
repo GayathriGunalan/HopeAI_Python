{
 "cells": [
  {
   "cell_type": "code",
   "execution_count": null,
   "id": "1d2e615d-25cc-4ed4-8676-d36da0c1f5f4",
   "metadata": {},
   "outputs": [],
   "source": [
    "num 1=10\n",
    "num 2=30\n",
    "add =num 1+ num 2"
   ]
  },
  {
   "cell_type": "code",
   "execution_count": null,
   "id": "f7aa7dae-4153-4073-af39-8d6c6d72f366",
   "metadata": {},
   "outputs": [],
   "source": [
    "num1=10\n",
    "num2=30\n",
    "add=num1+num2\n",
    "print(\"add\")\n",
    "print(add)\n",
    "\n",
    "\n"
   ]
  },
  {
   "cell_type": "code",
   "execution_count": null,
   "id": "c61074a7-59b0-45eb-b90a-e4404bb07e55",
   "metadata": {},
   "outputs": [],
   "source": [
    "num1=40\n",
    "num2=50\n",
    "add=num1+num2\n",
    "sub=num1-num2\n"
   ]
  },
  {
   "cell_type": "code",
   "execution_count": null,
   "id": "12568941-46e9-4f7a-9825-aa7269dae1fc",
   "metadata": {},
   "outputs": [],
   "source": [
    "First name=\"Gayathri Gunalan\"\n"
   ]
  },
  {
   "cell_type": "code",
   "execution_count": null,
   "id": "a4d4c0c6-5dab-46b1-ae1b-cec090bd481e",
   "metadata": {},
   "outputs": [],
   "source": [
    "First_name=\"GayathriGunalan\""
   ]
  },
  {
   "cell_type": "code",
   "execution_count": null,
   "id": "c35d88ff-ce27-48bf-a1df-19c12d823f51",
   "metadata": {},
   "outputs": [],
   "source": [
    "FirstName=\"hello\""
   ]
  },
  {
   "cell_type": "code",
   "execution_count": null,
   "id": "4ae221a5-b789-4302-bf27-f54d24a1e7df",
   "metadata": {},
   "outputs": [],
   "source": [
    "2firstname=30"
   ]
  },
  {
   "cell_type": "code",
   "execution_count": null,
   "id": "3c36ed91-b2c0-4c1b-97b3-92f898639aab",
   "metadata": {},
   "outputs": [],
   "source": [
    "f2irstName=\"hello\""
   ]
  },
  {
   "cell_type": "code",
   "execution_count": 1,
   "id": "bc454d45-d812-4e8f-8b61-1ff535ed6f5f",
   "metadata": {},
   "outputs": [
    {
     "name": "stdout",
     "output_type": "stream",
     "text": [
      "The addition of two numbers\n",
      "The number1: 10\n",
      "the number2: 20\n",
      "The answer: 30\n"
     ]
    }
   ],
   "source": [
    "print(\"The addition of two numbers\")\n",
    "num1=10\n",
    "print(\"The number1:\",num1)\n",
    "num2=20\n",
    "print(\"the number2:\",num2)\n",
    "add=num1+num2\n",
    "print(\"The answer:\",add)"
   ]
  },
  {
   "cell_type": "code",
   "execution_count": null,
   "id": "cc085bae-c16b-4b3b-b8f4-448b9dacdedd",
   "metadata": {},
   "outputs": [],
   "source": [
    "\n",
    "\n"
   ]
  },
  {
   "cell_type": "code",
   "execution_count": null,
   "id": "83e37c80-aee9-46ff-80e9-9b32a4e71d00",
   "metadata": {},
   "outputs": [],
   "source": []
  }
 ],
 "metadata": {
  "kernelspec": {
   "display_name": "Python 3 (ipykernel)",
   "language": "python",
   "name": "python3"
  },
  "language_info": {
   "codemirror_mode": {
    "name": "ipython",
    "version": 3
   },
   "file_extension": ".py",
   "mimetype": "text/x-python",
   "name": "python",
   "nbconvert_exporter": "python",
   "pygments_lexer": "ipython3",
   "version": "3.13.5"
  }
 },
 "nbformat": 4,
 "nbformat_minor": 5
}
