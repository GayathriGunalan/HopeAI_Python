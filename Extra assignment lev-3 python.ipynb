{
 "cells": [
  {
   "cell_type": "code",
   "execution_count": 1,
   "id": "71e8e585-d30d-4de5-a191-d26b6b3c0f1a",
   "metadata": {},
   "outputs": [],
   "source": [
    "#print \"CORRECT' if i==10"
   ]
  },
  {
   "cell_type": "code",
   "execution_count": 2,
   "id": "0a4f14c7-d7a7-4283-85db-78ecc6efc969",
   "metadata": {},
   "outputs": [
    {
     "name": "stdout",
     "output_type": "stream",
     "text": [
      "value: 10\n",
      "correct\n"
     ]
    }
   ],
   "source": [
    "value = 10\n",
    "print(f\"value: {value}\")\n",
    "if value == 10:\n",
    "    print(\"correct\")"
   ]
  },
  {
   "cell_type": "code",
   "execution_count": 3,
   "id": "8122ea8c-3d92-4e52-8eac-a6515febe87f",
   "metadata": {},
   "outputs": [],
   "source": [
    "# check the password, using if and else"
   ]
  },
  {
   "cell_type": "code",
   "execution_count": 4,
   "id": "af57526f-bff6-459d-8c02-3c54c29290fe",
   "metadata": {},
   "outputs": [
    {
     "name": "stdin",
     "output_type": "stream",
     "text": [
      "Enter the password: HOPE@123\n"
     ]
    },
    {
     "name": "stdout",
     "output_type": "stream",
     "text": [
      "Your password is correct\n"
     ]
    }
   ],
   "source": [
    "password = input(\"Enter the password:\")\n",
    "if password == \"HOPE@123\":\n",
    "    print(\"Your password is correct\")"
   ]
  },
  {
   "cell_type": "code",
   "execution_count": 5,
   "id": "61883cc7-f94d-4c84-9487-97ad1455d6ef",
   "metadata": {},
   "outputs": [],
   "source": [
    "# catagory the people by their age like children, adult, citizen, senior citizen"
   ]
  },
  {
   "cell_type": "code",
   "execution_count": 6,
   "id": "ba6061bb-7f8f-42b0-a00e-4e1927191f7e",
   "metadata": {},
   "outputs": [
    {
     "name": "stdout",
     "output_type": "stream",
     "text": [
      "age: 20\n",
      "Adult\n"
     ]
    }
   ],
   "source": [
    "age=20\n",
    "print(f\"age: {age}\")\n",
    "if age >=18:\n",
    "    print(\"Adult\")\n",
    "\n"
   ]
  },
  {
   "cell_type": "code",
   "execution_count": 7,
   "id": "79d635c5-4a71-4a47-9616-5f6a5962c46e",
   "metadata": {},
   "outputs": [],
   "source": [
    "# find whether given number is positive or negative"
   ]
  },
  {
   "cell_type": "code",
   "execution_count": 10,
   "id": "63d603de-811f-4e94-8b72-a749c3c131a7",
   "metadata": {},
   "outputs": [
    {
     "name": "stdin",
     "output_type": "stream",
     "text": [
      "Enter any number: 1\n"
     ]
    },
    {
     "name": "stdout",
     "output_type": "stream",
     "text": [
      "No is positive\n"
     ]
    }
   ],
   "source": [
    "number = int(input(\"Enter any number:\"))\n",
    "if number > 0:\n",
    "    print(\"No is positive\")"
   ]
  },
  {
   "cell_type": "code",
   "execution_count": 11,
   "id": "e890e220-fa3a-4334-b613-4d9a173498a9",
   "metadata": {},
   "outputs": [],
   "source": [
    "# check whether the given number is divisible by 5"
   ]
  },
  {
   "cell_type": "code",
   "execution_count": 12,
   "id": "02c0df6c-b9ad-49e6-bd96-d615ff294d7b",
   "metadata": {},
   "outputs": [
    {
     "name": "stdin",
     "output_type": "stream",
     "text": [
      "Enter a number to  check: 22\n"
     ]
    },
    {
     "name": "stdout",
     "output_type": "stream",
     "text": [
      "no is not divisible by 5\n"
     ]
    }
   ],
   "source": [
    "num= int(input(\"Enter a number to  check:\"))\n",
    "if num % 5!=0:\n",
    "    print(\"no is not divisible by 5\")"
   ]
  },
  {
   "cell_type": "code",
   "execution_count": null,
   "id": "3cea1b9c-c26d-493b-92f3-da2584a0480b",
   "metadata": {},
   "outputs": [],
   "source": []
  }
 ],
 "metadata": {
  "kernelspec": {
   "display_name": "Python 3 (ipykernel)",
   "language": "python",
   "name": "python3"
  },
  "language_info": {
   "codemirror_mode": {
    "name": "ipython",
    "version": 3
   },
   "file_extension": ".py",
   "mimetype": "text/x-python",
   "name": "python",
   "nbconvert_exporter": "python",
   "pygments_lexer": "ipython3",
   "version": "3.13.5"
  }
 },
 "nbformat": 4,
 "nbformat_minor": 5
}
