{
 "cells": [
  {
   "cell_type": "code",
   "execution_count": null,
   "id": "aba1475d",
   "metadata": {},
   "outputs": [],
   "source": [
    "1.Write a Python program to find the reverse of a string. Expected Output (for input \"hello\"):\n",
    "olleh\n"
   ]
  },
  {
   "cell_type": "code",
   "execution_count": 1,
   "id": "603f1d67-8cc2-4472-a0e1-956338a73613",
   "metadata": {},
   "outputs": [
    {
     "name": "stdout",
     "output_type": "stream",
     "text": [
      "olleh\n"
     ]
    }
   ],
   "source": [
    "text= \"hello\"\n",
    "reversed_text = text[::-1]\n",
    "print(reversed_text)"
   ]
  },
  {
   "cell_type": "code",
   "execution_count": null,
   "id": "5b1ec143",
   "metadata": {},
   "outputs": [],
   "source": [
    "2.Write a Python program to generate the Fibonacci sequence up to 10 terms.\n",
    "Expected Output:\n",
    "0 1 1 2 3 5 8 13 21 34\n",
    "\n"
   ]
  },
  {
   "cell_type": "code",
   "execution_count": 2,
   "id": "44cf1b83-3d23-45e9-b1bc-30a86df38bab",
   "metadata": {},
   "outputs": [
    {
     "name": "stdout",
     "output_type": "stream",
     "text": [
      "0 1 1 2 3 5 8 13 21 34 "
     ]
    }
   ],
   "source": [
    "n=10\n",
    "a,b=0,1\n",
    "for i in range(n):\n",
    "    print(a, end=\" \")\n",
    "    a,b=b, a+b"
   ]
  },
  {
   "cell_type": "code",
   "execution_count": null,
   "id": "c656f04a",
   "metadata": {},
   "outputs": [],
   "source": [
    "3.Write a Python function to check if a given string is a palindrome.\n",
    "Expected Output (for input \"madam\"):\n",
    "madam is a palindrome\n",
    "\n"
   ]
  },
  {
   "cell_type": "code",
   "execution_count": 4,
   "id": "650c47bb-908e-4c92-92ba-ab5bc8f54e5b",
   "metadata": {},
   "outputs": [],
   "source": [
    "def is_palindrome(text):\n",
    "    reversed_text= text[::-1]\n",
    "    if text==reversed_text:\n",
    "        print(f\"{text} is a palindrome\")\n",
    "    else:\n",
    "        print(f\"{text} is not a palindrome\")"
   ]
  },
  {
   "cell_type": "code",
   "execution_count": 5,
   "id": "030d763e-023d-403a-abf3-3adaab8bf7f0",
   "metadata": {},
   "outputs": [
    {
     "name": "stdout",
     "output_type": "stream",
     "text": [
      "madam is a palindrome\n"
     ]
    }
   ],
   "source": [
    "is_palindrome(\"madam\")"
   ]
  },
  {
   "cell_type": "code",
   "execution_count": null,
   "id": "cd7b0a78",
   "metadata": {},
   "outputs": [],
   "source": [
    "\n",
    "\n",
    "4.Write a Python program to count the number of vowels in a given string. \n",
    "Expected Output (for input \"education\"):\n",
    "\n",
    "Number of vowels: 5\n",
    "    \n",
    "\n",
    "\n",
    "\n",
    "\n"
   ]
  },
  {
   "cell_type": "code",
   "execution_count": 6,
   "id": "11c8faf5-61a2-4784-8184-29573aedf241",
   "metadata": {},
   "outputs": [
    {
     "name": "stdout",
     "output_type": "stream",
     "text": [
      "number of vowels: 5\n"
     ]
    }
   ],
   "source": [
    "text=\"education\"\n",
    "vowels= \"aeiou\"\n",
    "count=sum(1 for char in text if char in vowels)\n",
    "print(\"number of vowels:\",count)"
   ]
  },
  {
   "cell_type": "code",
   "execution_count": null,
   "id": "bdbb9b19",
   "metadata": {},
   "outputs": [],
   "source": [
    "5.Write a Python program to remove duplicates from a list.\n",
    "Expected Output (for input [1, 2, 2, 3, 4, 4, 5]):\n",
    "\n",
    " [1, 2, 3, 4, 5]\n",
    "\n",
    "\n"
   ]
  },
  {
   "cell_type": "code",
   "execution_count": 7,
   "id": "cdf815b8-77c9-411d-8199-7fd1a0735844",
   "metadata": {},
   "outputs": [
    {
     "name": "stdout",
     "output_type": "stream",
     "text": [
      "[1, 2, 3, 4, 5]\n"
     ]
    }
   ],
   "source": [
    "numbers=[1,2,2,3,4,4,5]\n",
    "unique_numbers=[]\n",
    "\n",
    "for num in numbers:\n",
    "    if num not in unique_numbers:\n",
    "        unique_numbers.append(num)\n",
    "\n",
    "print(unique_numbers)"
   ]
  },
  {
   "cell_type": "code",
   "execution_count": null,
   "id": "a3de8a2f-0be6-4a8e-ad95-93ee802681ee",
   "metadata": {},
   "outputs": [],
   "source": []
  }
 ],
 "metadata": {
  "kernelspec": {
   "display_name": "Python 3 (ipykernel)",
   "language": "python",
   "name": "python3"
  },
  "language_info": {
   "codemirror_mode": {
    "name": "ipython",
    "version": 3
   },
   "file_extension": ".py",
   "mimetype": "text/x-python",
   "name": "python",
   "nbconvert_exporter": "python",
   "pygments_lexer": "ipython3",
   "version": "3.13.5"
  }
 },
 "nbformat": 4,
 "nbformat_minor": 5
}
