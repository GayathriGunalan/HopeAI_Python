{
 "cells": [
  {
   "cell_type": "code",
   "execution_count": 1,
   "id": "e095abcd-e8f0-4dc3-a0b2-f2a0732f93f4",
   "metadata": {},
   "outputs": [],
   "source": [
    "from assignFunctions import calculateFunctions\n",
    "#from filename import classname"
   ]
  },
  {
   "cell_type": "code",
   "execution_count": 2,
   "id": "8fdf8b1a-191d-40da-bb21-a4f4bfae5bb2",
   "metadata": {},
   "outputs": [
    {
     "name": "stdout",
     "output_type": "stream",
     "text": [
      "sub-fields in AI are:\n",
      "Machine Learning\n",
      "Neural Networks\n",
      "Vision\n",
      "Robotics\n",
      "Speech Processing\n",
      "Natural Language Processing\n"
     ]
    }
   ],
   "source": [
    "calculateFunctions.subfields()\n",
    "#classname.functionname()"
   ]
  },
  {
   "cell_type": "code",
   "execution_count": 3,
   "id": "7323621c-5cd9-4e3c-930b-2a2ce44aec05",
   "metadata": {},
   "outputs": [
    {
     "name": "stdin",
     "output_type": "stream",
     "text": [
      "Enter a number: 52452\n"
     ]
    },
    {
     "name": "stdout",
     "output_type": "stream",
     "text": [
      "52452 is Even number\n"
     ]
    }
   ],
   "source": [
    "calculateFunctions.oddeven()\n",
    "#classname.functionname()"
   ]
  },
  {
   "cell_type": "code",
   "execution_count": 4,
   "id": "7a35b6ec-1013-45d6-93d9-03945e3d4e6e",
   "metadata": {},
   "outputs": [
    {
     "name": "stdin",
     "output_type": "stream",
     "text": [
      "Your Gender: male\n",
      "Enter your Age: 20\n"
     ]
    },
    {
     "name": "stdout",
     "output_type": "stream",
     "text": [
      "NOT ELIGIBLE\n"
     ]
    }
   ],
   "source": [
    "calculateFunctions.Eligibilityformarriage()\n",
    "#classname.functionname()\n",
    "                                          "
   ]
  },
  {
   "cell_type": "code",
   "execution_count": 5,
   "id": "7f600918-5ed3-40fd-8cc2-6163ebd8da78",
   "metadata": {},
   "outputs": [
    {
     "name": "stdin",
     "output_type": "stream",
     "text": [
      "subject1: 98\n",
      "subject2: 87\n",
      "subject3: 95\n",
      "subject4: 95\n",
      "subject5: 93\n"
     ]
    },
    {
     "name": "stdout",
     "output_type": "stream",
     "text": [
      "total: 468\n",
      "percentage: 93.60000000000001\n"
     ]
    }
   ],
   "source": [
    "calculateFunctions.Findpercentage()\n",
    "#classname.functionname()"
   ]
  },
  {
   "cell_type": "code",
   "execution_count": 6,
   "id": "c0136bce-2c30-444c-9f9a-d3459a9d5890",
   "metadata": {},
   "outputs": [
    {
     "name": "stdin",
     "output_type": "stream",
     "text": [
      "Height: 32\n",
      "Weight: 34\n"
     ]
    },
    {
     "name": "stdout",
     "output_type": "stream",
     "text": [
      "Area formula:(Height*Weight)/2\n",
      "Area of triangle: 544.0\n"
     ]
    },
    {
     "name": "stdin",
     "output_type": "stream",
     "text": [
      "Height1: 2\n",
      "Height2: 4\n",
      "Breath: 4\n"
     ]
    },
    {
     "name": "stdout",
     "output_type": "stream",
     "text": [
      "perimeter formula:Height1+Height2+Breath\n",
      "perimeter of triangle: 10\n"
     ]
    }
   ],
   "source": [
    "calculateFunctions.triangle()\n",
    "#classname.functionname()"
   ]
  },
  {
   "cell_type": "code",
   "execution_count": null,
   "id": "fbc832d4-4099-4dd8-b0b7-8b7df78fb701",
   "metadata": {},
   "outputs": [],
   "source": []
  }
 ],
 "metadata": {
  "kernelspec": {
   "display_name": "Python 3 (ipykernel)",
   "language": "python",
   "name": "python3"
  },
  "language_info": {
   "codemirror_mode": {
    "name": "ipython",
    "version": 3
   },
   "file_extension": ".py",
   "mimetype": "text/x-python",
   "name": "python",
   "nbconvert_exporter": "python",
   "pygments_lexer": "ipython3",
   "version": "3.13.5"
  }
 },
 "nbformat": 4,
 "nbformat_minor": 5
}
