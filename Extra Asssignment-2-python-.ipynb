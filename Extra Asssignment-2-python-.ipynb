{
 "cells": [
  {
   "cell_type": "code",
   "execution_count": 1,
   "id": "6afa5832-b188-4629-9c4a-bb259579a3ce",
   "metadata": {},
   "outputs": [],
   "source": [
    "#print 0 to 20 by using range"
   ]
  },
  {
   "cell_type": "code",
   "execution_count": 2,
   "id": "976b8992-eed8-4152-a346-a9f37369111d",
   "metadata": {},
   "outputs": [
    {
     "name": "stdout",
     "output_type": "stream",
     "text": [
      "0\n",
      "1\n",
      "2\n",
      "3\n",
      "4\n",
      "5\n",
      "6\n",
      "7\n",
      "8\n",
      "9\n",
      "10\n",
      "11\n",
      "12\n",
      "13\n",
      "14\n",
      "15\n",
      "16\n",
      "17\n",
      "18\n",
      "19\n"
     ]
    }
   ],
   "source": [
    "for num in range (0,20):\n",
    "    print(num)\n"
   ]
  },
  {
   "cell_type": "code",
   "execution_count": 5,
   "id": "1d424840-e1d9-4ab6-9bbb-6b1d9461a9b1",
   "metadata": {},
   "outputs": [
    {
     "name": "stdout",
     "output_type": "stream",
     "text": [
      "10\n",
      "11\n",
      "12\n",
      "13\n",
      "14\n",
      "15\n",
      "16\n",
      "17\n",
      "18\n",
      "19\n"
     ]
    }
   ],
   "source": [
    "for num in range (10,20):\n",
    "    print(num)"
   ]
  },
  {
   "cell_type": "code",
   "execution_count": 6,
   "id": "901dd859-9d6a-4769-9ab2-9eb2cd401405",
   "metadata": {},
   "outputs": [],
   "source": [
    "#print number of items in the list by using 'len'"
   ]
  },
  {
   "cell_type": "code",
   "execution_count": 19,
   "id": "54d89d2f-2c75-48df-89ac-421133e617a4",
   "metadata": {},
   "outputs": [
    {
     "name": "stdout",
     "output_type": "stream",
     "text": [
      "the number of items in list2: 7\n"
     ]
    }
   ],
   "source": [
    "list2=[10,20,14,55,43,87,19]\n",
    "number_of_items=len(list2)\n",
    "print(\"the number of items in list2:\",number_of_items)\n"
   ]
  },
  {
   "cell_type": "code",
   "execution_count": 18,
   "id": "97baf109-5a82-4801-b098-b0c33fef7336",
   "metadata": {},
   "outputs": [
    {
     "name": "stdout",
     "output_type": "stream",
     "text": [
      "Artificial Intelligence\n",
      "A\n",
      "r\n",
      "t\n",
      "i\n",
      "f\n",
      "i\n",
      "c\n",
      "i\n",
      "a\n",
      "l\n",
      " \n",
      "I\n",
      "n\n",
      "t\n",
      "e\n",
      "l\n",
      "l\n",
      "i\n",
      "g\n",
      "e\n",
      "n\n",
      "c\n",
      "e\n"
     ]
    }
   ],
   "source": [
    "print(\"Artificial Intelligence\")\n",
    "#printing vertically using loop\n",
    "text=\"Artificial Intelligence\"\n",
    "for temp in text:\n",
    "    print(temp)"
   ]
  },
  {
   "cell_type": "code",
   "execution_count": 19,
   "id": "58c5027d-308d-4712-a933-60d235352793",
   "metadata": {},
   "outputs": [
    {
     "name": "stdout",
     "output_type": "stream",
     "text": [
      "-Your Name-\n",
      "-Your Age-\n",
      "-Your Profession-\n"
     ]
    }
   ],
   "source": [
    "print(\"-Your Name-\")\n",
    "print(\"-Your Age-\")\n",
    "print(\"-Your Profession-\")"
   ]
  },
  {
   "cell_type": "raw",
   "id": "cdc549c6-fe1c-465b-a1ee-799698b0fe40",
   "metadata": {},
   "source": [
    "# print this mixed datatype using tuples\n"
   ]
  },
  {
   "cell_type": "code",
   "execution_count": 24,
   "id": "95512411-6dbb-40ef-918a-b5ef6e684f63",
   "metadata": {},
   "outputs": [
    {
     "name": "stdout",
     "output_type": "stream",
     "text": [
      "(1, 'Welcome', 2, 'Hope')\n"
     ]
    }
   ],
   "source": [
    "my_tuple=(1, 'Welcome', 2, 'Hope')\n",
    "print(my_tuple)"
   ]
  },
  {
   "cell_type": "code",
   "execution_count": 25,
   "id": "117e7c5d-15cd-4142-a848-9f11a597eedf",
   "metadata": {},
   "outputs": [
    {
     "name": "stdout",
     "output_type": "stream",
     "text": [
      "((0, 1, 2, 3), ('python', 'hope'))\n"
     ]
    }
   ],
   "source": [
    "tuple1=(0, 1, 2, 3)\n",
    "tuple2=('python', 'hope')\n",
    "my_tuple=(tuple1,tuple2)\n",
    "print(my_tuple)"
   ]
  },
  {
   "cell_type": "code",
   "execution_count": 26,
   "id": "e006175a-207f-49ea-8bdf-9ebb2cb01eff",
   "metadata": {},
   "outputs": [],
   "source": [
    "#print odd numbers in the list\n"
   ]
  },
  {
   "cell_type": "code",
   "execution_count": 44,
   "id": "1b26308b-4a35-45d4-bf93-600a7d8fb6ac",
   "metadata": {},
   "outputs": [
    {
     "name": "stdout",
     "output_type": "stream",
     "text": [
      " 19 is odd\n",
      " 25 is odd\n",
      " 1 is odd\n"
     ]
    }
   ],
   "source": [
    "\n",
    "numbers=(20,10,16,19,25,1,276,188)\n",
    "for num in numbers:\n",
    "     if num % 2 !=0:\n",
    "          print(f\" {num} is odd\")\n",
    "        \n",
    "         \n",
    "        "
   ]
  },
  {
   "cell_type": "code",
   "execution_count": 50,
   "id": "b343d90a-5094-40a6-970e-2be6ac259a11",
   "metadata": {},
   "outputs": [
    {
     "name": "stdout",
     "output_type": "stream",
     "text": [
      " 20 is even\n",
      " 10 is even\n",
      " 16 is even\n",
      " 276 is even\n",
      " 188 is even\n"
     ]
    }
   ],
   "source": [
    "numbers=(20,10,16,19,25,1,276,188)\n",
    "for num in numbers:\n",
    "     if num % 2 ==0:\n",
    "          print(f\" {num} is even\")"
   ]
  },
  {
   "cell_type": "code",
   "execution_count": null,
   "id": "9088d556-fef4-4ccd-8788-16a12e280a5d",
   "metadata": {},
   "outputs": [],
   "source": []
  }
 ],
 "metadata": {
  "kernelspec": {
   "display_name": "Python 3 (ipykernel)",
   "language": "python",
   "name": "python3"
  },
  "language_info": {
   "codemirror_mode": {
    "name": "ipython",
    "version": 3
   },
   "file_extension": ".py",
   "mimetype": "text/x-python",
   "name": "python",
   "nbconvert_exporter": "python",
   "pygments_lexer": "ipython3",
   "version": "3.13.5"
  }
 },
 "nbformat": 4,
 "nbformat_minor": 5
}
