{
 "cells": [
  {
   "cell_type": "code",
   "execution_count": 1,
   "id": "33d600ca-631c-4819-b87b-84b1e5140d1a",
   "metadata": {},
   "outputs": [],
   "source": [
    "# create function"
   ]
  },
  {
   "cell_type": "code",
   "execution_count": 2,
   "id": "46b6451d-ed45-4fcd-83e4-1c998cb9632f",
   "metadata": {},
   "outputs": [
    {
     "name": "stdout",
     "output_type": "stream",
     "text": [
      "sub-fields in AI are:\n",
      "Machine Learning\n",
      "Neural Networks\n",
      "Vision\n",
      "Robotics\n",
      "Speech Processing\n",
      "Natural Language Processing\n"
     ]
    }
   ],
   "source": [
    "def subfields():\n",
    "    print(\"sub-fields in AI are:\")\n",
    "    print(\"Machine Learning\")\n",
    "    print(\"Neural Networks\")\n",
    "    print(\"Vision\")\n",
    "    print(\"Robotics\")\n",
    "    print(\"Speech Processing\")\n",
    "    print(\"Natural Language Processing\")\n",
    "\n",
    "subfields()"
   ]
  },
  {
   "cell_type": "code",
   "execution_count": 3,
   "id": "91725c36-6681-4802-b320-26dbc22d780d",
   "metadata": {},
   "outputs": [],
   "source": [
    "# create function"
   ]
  },
  {
   "cell_type": "code",
   "execution_count": 1,
   "id": "26da1f4f-7ece-4cc7-87ab-8436881aee92",
   "metadata": {},
   "outputs": [],
   "source": [
    "def oddeven():\n",
    "    num=int(input(\"Enter a number:\"))\n",
    "    if((num%2)==0):\n",
    "        print(\"52452 is Even number\")\n",
    "    else:\n",
    "        print(\"52452 is Odd number\")"
   ]
  },
  {
   "cell_type": "code",
   "execution_count": 2,
   "id": "559449b3-bc43-4761-ae9f-0f2f0a381751",
   "metadata": {},
   "outputs": [
    {
     "name": "stdin",
     "output_type": "stream",
     "text": [
      "Enter a number: 52452\n"
     ]
    },
    {
     "name": "stdout",
     "output_type": "stream",
     "text": [
      "52452 is Even number\n"
     ]
    }
   ],
   "source": [
    "oddeven()"
   ]
  },
  {
   "cell_type": "code",
   "execution_count": 17,
   "id": "f2cf12b5-c965-4b1b-87bf-d889951483ee",
   "metadata": {},
   "outputs": [],
   "source": [
    "# create function "
   ]
  },
  {
   "cell_type": "code",
   "execution_count": 7,
   "id": "09ddd430-eb91-41cf-90d3-9b2e348eb7a7",
   "metadata": {},
   "outputs": [],
   "source": [
    "def Eligibilityformarriage():\n",
    "    name=input(\"Your Gender\")\n",
    "    age=int(input(\"Enter your Age\"))\n",
    "    if(age<=21):\n",
    "        print(\"NOT ELIGIBLE\")\n",
    "    else:\n",
    "        print(\"ELIGIBLE\")"
   ]
  },
  {
   "cell_type": "code",
   "execution_count": 8,
   "id": "c07ac31e-aa26-49f3-baf3-ef434348afa3",
   "metadata": {},
   "outputs": [
    {
     "name": "stdin",
     "output_type": "stream",
     "text": [
      "Your Gender male\n",
      "Enter your Age 20\n"
     ]
    },
    {
     "name": "stdout",
     "output_type": "stream",
     "text": [
      "NOT ELIGIBLE\n"
     ]
    }
   ],
   "source": [
    "Eligibilityformarriage()"
   ]
  },
  {
   "cell_type": "code",
   "execution_count": 9,
   "id": "ec2cd6ec-66ea-49dd-a2e3-893ad489ef7e",
   "metadata": {},
   "outputs": [],
   "source": [
    "# calculate the percentage of your 10th mark"
   ]
  },
  {
   "cell_type": "code",
   "execution_count": 11,
   "id": "20b12f03-fb61-4f1f-80de-beb9820b6989",
   "metadata": {},
   "outputs": [],
   "source": [
    "def Findpercentage():\n",
    "    S1=int(input(\"subject1:\"))\n",
    "    S2=int(input(\"subject2:\"))\n",
    "    S3=int(input(\"subject3:\"))\n",
    "    S4=int(input(\"subject4:\"))\n",
    "    S5=int(input(\"subject5:\"))\n",
    "    total=S1+S2+S3+S4+S5\n",
    "    print(\"total:\",total)\n",
    "    percentage=total/500*100\n",
    "    print(\"percentage:\",percentage)"
   ]
  },
  {
   "cell_type": "code",
   "execution_count": 12,
   "id": "ffdacae0-e0b7-49ef-a655-f040de70e669",
   "metadata": {},
   "outputs": [
    {
     "name": "stdin",
     "output_type": "stream",
     "text": [
      "subject1: 98\n",
      "subject2: 87\n",
      "subject3: 95\n",
      "subject4: 95\n",
      "subject5: 93\n"
     ]
    },
    {
     "name": "stdout",
     "output_type": "stream",
     "text": [
      "total: 468\n",
      "percentage: 93.60000000000001\n"
     ]
    }
   ],
   "source": [
    "Findpercentage()"
   ]
  },
  {
   "cell_type": "code",
   "execution_count": 13,
   "id": "d5a94850-97bb-4b55-8538-28869d50f93d",
   "metadata": {},
   "outputs": [],
   "source": [
    "#print area and perimeter of triangle using class and functions"
   ]
  },
  {
   "cell_type": "code",
   "execution_count": 14,
   "id": "6b06ff84-5b72-49d3-a4fb-61f343c82209",
   "metadata": {},
   "outputs": [],
   "source": [
    "def triangle():\n",
    "    Height=int(input(\"Height:\"))\n",
    "    Weight=int(input(\"Weight:\"))\n",
    "    print(\"Area formula:(Height*Weight)/2\")\n",
    "    mull=(Height*Weight)/2\n",
    "    print(\"Area of triangle:\",mull)\n",
    "    Height1=int(input(\"Height1:\"))\n",
    "    Height2=int(input(\"Height2:\"))\n",
    "    Breath=int(input(\"Breath:\"))\n",
    "    print(\"perimeter formula:Height1+Height2+Breath\")\n",
    "    total=Height1+Height2+Breath\n",
    "    print(\"perimeter of triangle:\",total)\n",
    "    "
   ]
  },
  {
   "cell_type": "code",
   "execution_count": 15,
   "id": "5696e659-a22a-4187-83de-32723a4eb843",
   "metadata": {},
   "outputs": [
    {
     "name": "stdin",
     "output_type": "stream",
     "text": [
      "Height: 32\n",
      "Weight: 34\n"
     ]
    },
    {
     "name": "stdout",
     "output_type": "stream",
     "text": [
      "Area formula:(Height*Weight)/2\n",
      "Area of triangle: 544.0\n"
     ]
    },
    {
     "name": "stdin",
     "output_type": "stream",
     "text": [
      "Height1: 2\n",
      "Height2: 4\n",
      "Breath: 4\n"
     ]
    },
    {
     "name": "stdout",
     "output_type": "stream",
     "text": [
      "perimeter formula:Height1+Height2+Breath\n",
      "perimeter of triangle: 10\n"
     ]
    }
   ],
   "source": [
    "triangle()"
   ]
  },
  {
   "cell_type": "code",
   "execution_count": null,
   "id": "03ca3f55-e00d-4766-b3d4-4f6e3cfd1f11",
   "metadata": {},
   "outputs": [],
   "source": []
  }
 ],
 "metadata": {
  "kernelspec": {
   "display_name": "Python 3 (ipykernel)",
   "language": "python",
   "name": "python3"
  },
  "language_info": {
   "codemirror_mode": {
    "name": "ipython",
    "version": 3
   },
   "file_extension": ".py",
   "mimetype": "text/x-python",
   "name": "python",
   "nbconvert_exporter": "python",
   "pygments_lexer": "ipython3",
   "version": "3.13.5"
  }
 },
 "nbformat": 4,
 "nbformat_minor": 5
}
